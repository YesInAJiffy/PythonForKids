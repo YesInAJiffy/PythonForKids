{
  "nbformat": 4,
  "nbformat_minor": 0,
  "metadata": {
    "colab": {
      "provenance": [],
      "authorship_tag": "ABX9TyPDsjNkLeEowXrcrwiln6ZJ",
      "include_colab_link": true
    },
    "kernelspec": {
      "name": "python3",
      "display_name": "Python 3"
    },
    "language_info": {
      "name": "python"
    }
  },
  "cells": [
    {
      "cell_type": "markdown",
      "metadata": {
        "id": "view-in-github",
        "colab_type": "text"
      },
      "source": [
        "<a href=\"https://colab.research.google.com/github/YesInAJiffy/PythonForKids/blob/main/Chapter_2_Variables_and_Datatypes.ipynb\" target=\"_parent\"><img src=\"https://colab.research.google.com/assets/colab-badge.svg\" alt=\"Open In Colab\"/></a>"
      ]
    },
    {
      "cell_type": "markdown",
      "source": [
        "**VARIABLES**"
      ],
      "metadata": {
        "id": "TQjc5mNc1-4d"
      }
    },
    {
      "cell_type": "code",
      "source": [
        "#Integer\n",
        "age = 25"
      ],
      "metadata": {
        "id": "2TPPNX2U2CnK"
      },
      "execution_count": null,
      "outputs": []
    },
    {
      "cell_type": "code",
      "source": [
        "#Float\n",
        "height = 5.9\n"
      ],
      "metadata": {
        "id": "n86RE5Tz2Kfh"
      },
      "execution_count": null,
      "outputs": []
    },
    {
      "cell_type": "code",
      "source": [
        "#String\n",
        "name = \"Alice\"\n"
      ],
      "metadata": {
        "id": "L_F9XuyE2WZw"
      },
      "execution_count": null,
      "outputs": []
    },
    {
      "cell_type": "code",
      "source": [
        "#Boolean\n",
        "is_student = True\n"
      ],
      "metadata": {
        "id": "vBhST-dZ2mfs"
      },
      "execution_count": null,
      "outputs": []
    },
    {
      "cell_type": "markdown",
      "source": [
        "**Expressions**"
      ],
      "metadata": {
        "id": "to4zRZ3m2vmh"
      }
    },
    {
      "cell_type": "code",
      "source": [
        "5+3\n"
      ],
      "metadata": {
        "colab": {
          "base_uri": "https://localhost:8080/"
        },
        "id": "deUgoc7U2yBH",
        "outputId": "a04e96ea-d3d0-4b19-8047-33a2dc168867"
      },
      "execution_count": null,
      "outputs": [
        {
          "output_type": "execute_result",
          "data": {
            "text/plain": [
              "8"
            ]
          },
          "metadata": {},
          "execution_count": 2
        }
      ]
    },
    {
      "cell_type": "markdown",
      "source": [
        "**Base Functions**"
      ],
      "metadata": {
        "id": "rz1rSYON4NxR"
      }
    },
    {
      "cell_type": "code",
      "source": [
        "print(\"Print this text\")"
      ],
      "metadata": {
        "colab": {
          "base_uri": "https://localhost:8080/"
        },
        "id": "4EVGEZIl4V6p",
        "outputId": "81ea125b-646b-4613-9dd7-0ad922b65879"
      },
      "execution_count": null,
      "outputs": [
        {
          "output_type": "stream",
          "name": "stdout",
          "text": [
            "Print this text\n"
          ]
        }
      ]
    },
    {
      "cell_type": "code",
      "source": [
        "type(age)"
      ],
      "metadata": {
        "colab": {
          "base_uri": "https://localhost:8080/"
        },
        "id": "vpcODWdZ4bXT",
        "outputId": "76c8a3be-69a0-4f41-e0a8-f63ce67f1b41"
      },
      "execution_count": null,
      "outputs": [
        {
          "output_type": "execute_result",
          "data": {
            "text/plain": [
              "int"
            ]
          },
          "metadata": {},
          "execution_count": 10
        }
      ]
    },
    {
      "cell_type": "markdown",
      "source": [
        "* Python is a dynamically-typed language, which means that the interpreter can understand the type of a variable during runtime."
      ],
      "metadata": {
        "id": "qnOsoFCN3htS"
      }
    },
    {
      "cell_type": "code",
      "source": [
        "surname = \"Donald\"\n",
        "\n",
        "full = name + surname\n",
        "\n",
        "print(full)\n",
        "\n"
      ],
      "metadata": {
        "colab": {
          "base_uri": "https://localhost:8080/"
        },
        "id": "8nt95fk_3u4f",
        "outputId": "e9f3f340-8d2c-4c89-fe53-d8e6617c5083"
      },
      "execution_count": null,
      "outputs": [
        {
          "output_type": "stream",
          "name": "stdout",
          "text": [
            "AliceDonald\n"
          ]
        }
      ]
    },
    {
      "cell_type": "code",
      "source": [
        "full = name + age\n",
        "#Incompatible types\n"
      ],
      "metadata": {
        "colab": {
          "base_uri": "https://localhost:8080/",
          "height": 197
        },
        "id": "R0sCNrzA4KA3",
        "outputId": "0afd1877-4574-4d98-8b07-a841c2865819"
      },
      "execution_count": null,
      "outputs": [
        {
          "output_type": "error",
          "ename": "TypeError",
          "evalue": "ignored",
          "traceback": [
            "\u001b[0;31m---------------------------------------------------------------------------\u001b[0m",
            "\u001b[0;31mTypeError\u001b[0m                                 Traceback (most recent call last)",
            "\u001b[0;32m<ipython-input-12-e483a5867add>\u001b[0m in \u001b[0;36m<cell line: 1>\u001b[0;34m()\u001b[0m\n\u001b[0;32m----> 1\u001b[0;31m \u001b[0mfull\u001b[0m \u001b[0;34m=\u001b[0m \u001b[0mname\u001b[0m \u001b[0;34m+\u001b[0m \u001b[0mage\u001b[0m\u001b[0;34m\u001b[0m\u001b[0;34m\u001b[0m\u001b[0m\n\u001b[0m\u001b[1;32m      2\u001b[0m \u001b[0;31m#Incompatible types\u001b[0m\u001b[0;34m\u001b[0m\u001b[0;34m\u001b[0m\u001b[0m\n",
            "\u001b[0;31mTypeError\u001b[0m: can only concatenate str (not \"int\") to str"
          ]
        }
      ]
    },
    {
      "cell_type": "markdown",
      "source": [
        "**ADVANCED DATA TYPES**\n",
        "* LIST\n",
        "* DICTIONARY"
      ],
      "metadata": {
        "id": "-BVOtpZi6nAR"
      }
    },
    {
      "cell_type": "code",
      "source": [
        "''' A list is a mutable, ordered sequence of elements. Lists can contain elements of different data types,\n",
        "and you can change, add, or remove elements from a list after it has been created. '''\n",
        "\n",
        "my_list = [1, 2, 3, 'hello', True]\n"
      ],
      "metadata": {
        "id": "AWjS1LKD6t-M"
      },
      "execution_count": 2,
      "outputs": []
    },
    {
      "cell_type": "code",
      "source": [
        "# Accessing elements by index\n",
        "print(my_list[0])  # Output: 1\n",
        "\n",
        "# Slicing\n",
        "print(my_list[1:4])  # Output: [2, 3, 'hello']\n",
        "\n",
        "# Appending an element\n",
        "my_list.append(4)\n",
        "\n",
        "# Extending with another list\n",
        "my_list.extend([5, 6, 7])\n",
        "\n",
        "# Modifying an element\n",
        "my_list[3] = 'world'\n"
      ],
      "metadata": {
        "id": "zYnvekI_6-nN",
        "outputId": "678d9c49-4960-4115-943d-a475066dbcda",
        "colab": {
          "base_uri": "https://localhost:8080/"
        }
      },
      "execution_count": 3,
      "outputs": [
        {
          "output_type": "stream",
          "name": "stdout",
          "text": [
            "1\n",
            "[2, 3, 'hello']\n"
          ]
        }
      ]
    },
    {
      "cell_type": "code",
      "source": [
        "# Another function Range\n",
        "my_list = list(range(5))  # Converts the range to a list [0, 1, 2, 3, 4]\n",
        "print(my_list)\n",
        "my_secondlist = list(range(3,10))\n",
        "print (my_secondlist)"
      ],
      "metadata": {
        "id": "GmyVIW2O84EF",
        "outputId": "c7601e45-148b-4404-d745-d94a8a84308a",
        "colab": {
          "base_uri": "https://localhost:8080/"
        }
      },
      "execution_count": 15,
      "outputs": [
        {
          "output_type": "stream",
          "name": "stdout",
          "text": [
            "[0, 1, 2, 3, 4]\n",
            "[3, 4, 5, 6, 7, 8, 9]\n"
          ]
        }
      ]
    },
    {
      "cell_type": "code",
      "source": [
        "''' dictionary is a built-in data type that allows you to store a collection of key-value pairs.\n",
        "\n",
        "Dictionaries are unordered, mutable, and versatile for organizing and retrieving data.\n",
        "Each key in a dictionary must be unique, and it is associated with a specific value.'''\n",
        "\n",
        "# Creating a dictionary\n",
        "person = {\n",
        "    'name': 'Alice',\n",
        "    'age': 30,\n",
        "    'is_student': False\n",
        "}\n",
        "\n",
        "# Accessing values using keys\n",
        "print(person['name'])        # Output: Alice\n",
        "print(person['age'])         # Output: 30\n",
        "print(person['is_student'])  # Output: False\n"
      ],
      "metadata": {
        "id": "uO8ZfrZo7Tis",
        "outputId": "47be2ca8-c013-4487-c0ff-ca8752f6b551",
        "colab": {
          "base_uri": "https://localhost:8080/"
        }
      },
      "execution_count": 4,
      "outputs": [
        {
          "output_type": "stream",
          "name": "stdout",
          "text": [
            "Alice\n",
            "30\n",
            "False\n"
          ]
        }
      ]
    },
    {
      "cell_type": "code",
      "source": [
        "# Adding a new key-value pair\n",
        "person['city'] = 'Wonderland'\n",
        "\n",
        "print(person)\n",
        "print(person[\"age\"])"
      ],
      "metadata": {
        "id": "ZMgVgnoF7hzU",
        "outputId": "f8a74d5d-8a8c-451f-f5aa-7172c436c773",
        "colab": {
          "base_uri": "https://localhost:8080/"
        }
      },
      "execution_count": 7,
      "outputs": [
        {
          "output_type": "stream",
          "name": "stdout",
          "text": [
            "{'name': 'Alice', 'age': 30, 'is_student': False, 'city': 'Wonderland'}\n",
            "30\n"
          ]
        }
      ]
    },
    {
      "cell_type": "code",
      "source": [
        "person['city'] = 'Paris'\n"
      ],
      "metadata": {
        "id": "jZCHX-iR74Iz"
      },
      "execution_count": 8,
      "outputs": []
    },
    {
      "cell_type": "code",
      "source": [
        "person = {\n",
        "    'name': 'Alice',\n",
        "    'age': 30,\n",
        "    'is_student': False,\n",
        "    'subject': \"Maths\",\n",
        "    'subject' : \"Python Programming\"\n",
        "}\n",
        "\n",
        "print(person)"
      ],
      "metadata": {
        "id": "FL0czuBN77h-",
        "outputId": "bc9037f3-0ff6-4b02-944d-9e6a86086811",
        "colab": {
          "base_uri": "https://localhost:8080/"
        }
      },
      "execution_count": 11,
      "outputs": [
        {
          "output_type": "stream",
          "name": "stdout",
          "text": [
            "{'name': 'Alice', 'age': 30, 'is_student': False, 'subject': 'Python Programming'}\n"
          ]
        }
      ]
    }
  ]
}