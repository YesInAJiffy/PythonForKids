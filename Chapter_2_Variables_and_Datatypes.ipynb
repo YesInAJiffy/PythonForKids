{
  "nbformat": 4,
  "nbformat_minor": 0,
  "metadata": {
    "colab": {
      "provenance": [],
      "authorship_tag": "ABX9TyM7PQrMcl65gr7DprSHOeUU",
      "include_colab_link": true
    },
    "kernelspec": {
      "name": "python3",
      "display_name": "Python 3"
    },
    "language_info": {
      "name": "python"
    }
  },
  "cells": [
    {
      "cell_type": "markdown",
      "metadata": {
        "id": "view-in-github",
        "colab_type": "text"
      },
      "source": [
        "<a href=\"https://colab.research.google.com/github/YesInAJiffy/PythonForKids/blob/main/Chapter_2_Variables_and_Datatypes.ipynb\" target=\"_parent\"><img src=\"https://colab.research.google.com/assets/colab-badge.svg\" alt=\"Open In Colab\"/></a>"
      ]
    },
    {
      "cell_type": "markdown",
      "source": [
        "**VARIABLES**"
      ],
      "metadata": {
        "id": "TQjc5mNc1-4d"
      }
    },
    {
      "cell_type": "code",
      "source": [
        "#Integer\n",
        "age = 25"
      ],
      "metadata": {
        "id": "2TPPNX2U2CnK"
      },
      "execution_count": 1,
      "outputs": []
    },
    {
      "cell_type": "code",
      "source": [
        "#Float\n",
        "height = 5.9\n"
      ],
      "metadata": {
        "id": "n86RE5Tz2Kfh"
      },
      "execution_count": null,
      "outputs": []
    },
    {
      "cell_type": "code",
      "source": [
        "#String\n",
        "name = \"Alice\"\n"
      ],
      "metadata": {
        "id": "L_F9XuyE2WZw"
      },
      "execution_count": 4,
      "outputs": []
    },
    {
      "cell_type": "code",
      "source": [
        "#Boolean\n",
        "is_student = True\n"
      ],
      "metadata": {
        "id": "vBhST-dZ2mfs"
      },
      "execution_count": null,
      "outputs": []
    },
    {
      "cell_type": "markdown",
      "source": [
        "**Expressions**"
      ],
      "metadata": {
        "id": "to4zRZ3m2vmh"
      }
    },
    {
      "cell_type": "code",
      "source": [
        "5+3\n"
      ],
      "metadata": {
        "colab": {
          "base_uri": "https://localhost:8080/"
        },
        "id": "deUgoc7U2yBH",
        "outputId": "a04e96ea-d3d0-4b19-8047-33a2dc168867"
      },
      "execution_count": 2,
      "outputs": [
        {
          "output_type": "execute_result",
          "data": {
            "text/plain": [
              "8"
            ]
          },
          "metadata": {},
          "execution_count": 2
        }
      ]
    },
    {
      "cell_type": "markdown",
      "source": [
        "**Base Functions**"
      ],
      "metadata": {
        "id": "rz1rSYON4NxR"
      }
    },
    {
      "cell_type": "code",
      "source": [
        "print(\"Print this text\")"
      ],
      "metadata": {
        "colab": {
          "base_uri": "https://localhost:8080/"
        },
        "id": "4EVGEZIl4V6p",
        "outputId": "81ea125b-646b-4613-9dd7-0ad922b65879"
      },
      "execution_count": 9,
      "outputs": [
        {
          "output_type": "stream",
          "name": "stdout",
          "text": [
            "Print this text\n"
          ]
        }
      ]
    },
    {
      "cell_type": "code",
      "source": [
        "type(age)"
      ],
      "metadata": {
        "colab": {
          "base_uri": "https://localhost:8080/"
        },
        "id": "vpcODWdZ4bXT",
        "outputId": "76c8a3be-69a0-4f41-e0a8-f63ce67f1b41"
      },
      "execution_count": 10,
      "outputs": [
        {
          "output_type": "execute_result",
          "data": {
            "text/plain": [
              "int"
            ]
          },
          "metadata": {},
          "execution_count": 10
        }
      ]
    },
    {
      "cell_type": "markdown",
      "source": [
        "* Python is a dynamically-typed language, which means that the interpreter can understand the type of a variable during runtime."
      ],
      "metadata": {
        "id": "qnOsoFCN3htS"
      }
    },
    {
      "cell_type": "code",
      "source": [
        "surname = \"Donald\"\n",
        "\n",
        "full = name + surname\n",
        "\n",
        "print(full)\n",
        "\n"
      ],
      "metadata": {
        "colab": {
          "base_uri": "https://localhost:8080/"
        },
        "id": "8nt95fk_3u4f",
        "outputId": "e9f3f340-8d2c-4c89-fe53-d8e6617c5083"
      },
      "execution_count": 11,
      "outputs": [
        {
          "output_type": "stream",
          "name": "stdout",
          "text": [
            "AliceDonald\n"
          ]
        }
      ]
    },
    {
      "cell_type": "code",
      "source": [
        "full = name + age\n",
        "#Incompatible types\n"
      ],
      "metadata": {
        "colab": {
          "base_uri": "https://localhost:8080/",
          "height": 197
        },
        "id": "R0sCNrzA4KA3",
        "outputId": "0afd1877-4574-4d98-8b07-a841c2865819"
      },
      "execution_count": 12,
      "outputs": [
        {
          "output_type": "error",
          "ename": "TypeError",
          "evalue": "ignored",
          "traceback": [
            "\u001b[0;31m---------------------------------------------------------------------------\u001b[0m",
            "\u001b[0;31mTypeError\u001b[0m                                 Traceback (most recent call last)",
            "\u001b[0;32m<ipython-input-12-e483a5867add>\u001b[0m in \u001b[0;36m<cell line: 1>\u001b[0;34m()\u001b[0m\n\u001b[0;32m----> 1\u001b[0;31m \u001b[0mfull\u001b[0m \u001b[0;34m=\u001b[0m \u001b[0mname\u001b[0m \u001b[0;34m+\u001b[0m \u001b[0mage\u001b[0m\u001b[0;34m\u001b[0m\u001b[0;34m\u001b[0m\u001b[0m\n\u001b[0m\u001b[1;32m      2\u001b[0m \u001b[0;31m#Incompatible types\u001b[0m\u001b[0;34m\u001b[0m\u001b[0;34m\u001b[0m\u001b[0m\n",
            "\u001b[0;31mTypeError\u001b[0m: can only concatenate str (not \"int\") to str"
          ]
        }
      ]
    }
  ]
}