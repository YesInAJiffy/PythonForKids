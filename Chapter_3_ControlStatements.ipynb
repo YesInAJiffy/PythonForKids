{
  "nbformat": 4,
  "nbformat_minor": 0,
  "metadata": {
    "colab": {
      "provenance": [],
      "authorship_tag": "ABX9TyMGlMqaTga+06xdJf5gx3vT",
      "include_colab_link": true
    },
    "kernelspec": {
      "name": "python3",
      "display_name": "Python 3"
    },
    "language_info": {
      "name": "python"
    }
  },
  "cells": [
    {
      "cell_type": "markdown",
      "metadata": {
        "id": "view-in-github",
        "colab_type": "text"
      },
      "source": [
        "<a href=\"https://colab.research.google.com/github/YesInAJiffy/PythonForKids/blob/main/Chapter_3_ControlStatements.ipynb\" target=\"_parent\"><img src=\"https://colab.research.google.com/assets/colab-badge.svg\" alt=\"Open In Colab\"/></a>"
      ]
    },
    {
      "cell_type": "markdown",
      "source": [
        "IF ELSE CONTROL STRUCTURE"
      ],
      "metadata": {
        "id": "QRnZmpLbNGFp"
      }
    },
    {
      "cell_type": "code",
      "execution_count": 10,
      "metadata": {
        "id": "rM9M04FrM6B4",
        "outputId": "74899eef-08df-4ccc-cf0e-716bee0c6b48",
        "colab": {
          "base_uri": "https://localhost:8080/"
        }
      },
      "outputs": [
        {
          "output_type": "stream",
          "name": "stdout",
          "text": [
            "x is greater than 6\n",
            "<class 'int'>\n"
          ]
        }
      ],
      "source": [
        "x = 15\n",
        "if x > 6 :\n",
        "        print(\"x is greater than 6\")\n",
        "        print(type(x))"
      ]
    },
    {
      "cell_type": "markdown",
      "source": [
        "**IF ELSE**"
      ],
      "metadata": {
        "id": "ez5egPQMOta8"
      }
    },
    {
      "cell_type": "code",
      "source": [
        "x = 5\n",
        "if x > 6 :\n",
        "        print(\"x is greater than 6\")\n",
        "        print(type(x))\n",
        "else :\n",
        "        print(\"x is lesser than 6\")"
      ],
      "metadata": {
        "id": "IStveYOyOvzU",
        "outputId": "935bb72c-5a30-461d-f471-651d92c70e92",
        "colab": {
          "base_uri": "https://localhost:8080/"
        }
      },
      "execution_count": 13,
      "outputs": [
        {
          "output_type": "stream",
          "name": "stdout",
          "text": [
            "x is lesser than 6\n"
          ]
        }
      ]
    },
    {
      "cell_type": "markdown",
      "source": [
        "**IF ELIF ELSE**"
      ],
      "metadata": {
        "id": "OArzgnkcO-hE"
      }
    },
    {
      "cell_type": "code",
      "source": [
        "x = 0\n",
        "if x > 6 :\n",
        "        print(\"x is greater than 6\")\n",
        "        print(type(x))\n",
        "elif x > 3 :\n",
        "        print(\"x is greater than 3\")\n",
        "elif x > 1 :\n",
        "        print(\"x is greate than 1\")\n",
        "else :\n",
        "        print(\"Nothing matched\")"
      ],
      "metadata": {
        "id": "BvRpWOcoOwzC",
        "outputId": "58e0b268-9dce-41f5-8098-ed0db9e7a65e",
        "colab": {
          "base_uri": "https://localhost:8080/"
        }
      },
      "execution_count": 17,
      "outputs": [
        {
          "output_type": "stream",
          "name": "stdout",
          "text": [
            "Nothing matched\n"
          ]
        }
      ]
    },
    {
      "cell_type": "code",
      "source": [],
      "metadata": {
        "id": "AiP-fZH2Owwf"
      },
      "execution_count": null,
      "outputs": []
    },
    {
      "cell_type": "markdown",
      "source": [
        "**FOR LOOP**"
      ],
      "metadata": {
        "id": "aNWsDwaqP8ZW"
      }
    },
    {
      "cell_type": "code",
      "source": [
        "fruits = [\"apple\", \"banana\", \"orange\"]\n",
        "i = 0\n",
        "for x in fruits:\n",
        "  print(i)\n",
        "  i = i + 1\n",
        "  print(x)\n",
        "  print (\"**********\")\n",
        "  print(f\"{x} fruit and {i}th loop\")\n",
        "\n"
      ],
      "metadata": {
        "id": "XtkM_xNFOwr6",
        "outputId": "470dc295-291e-4c8e-dda0-48bbf1ead488",
        "colab": {
          "base_uri": "https://localhost:8080/"
        }
      },
      "execution_count": 23,
      "outputs": [
        {
          "output_type": "stream",
          "name": "stdout",
          "text": [
            "0\n",
            "apple\n",
            "**********\n",
            "apple fruit and 1th loop\n",
            "1\n",
            "banana\n",
            "**********\n",
            "banana fruit and 2th loop\n",
            "2\n",
            "orange\n",
            "**********\n",
            "orange fruit and 3th loop\n"
          ]
        }
      ]
    },
    {
      "cell_type": "markdown",
      "source": [
        "**WHILE LOOP**"
      ],
      "metadata": {
        "id": "vGrMTNdhQstA"
      }
    },
    {
      "cell_type": "code",
      "source": [
        "count = 0\n",
        "while count < 5:\n",
        "  print (count)\n",
        "  count +=1 #count = count + 1\n"
      ],
      "metadata": {
        "id": "2yhb24OeOwpa",
        "outputId": "383a3460-7c7c-496d-dd90-a1f5ee696fd8",
        "colab": {
          "base_uri": "https://localhost:8080/"
        }
      },
      "execution_count": 24,
      "outputs": [
        {
          "output_type": "stream",
          "name": "stdout",
          "text": [
            "0\n",
            "1\n",
            "2\n",
            "3\n",
            "4\n"
          ]
        }
      ]
    },
    {
      "cell_type": "markdown",
      "source": [
        "**LOOP STATEMENTS**"
      ],
      "metadata": {
        "id": "hYgymW7BRd84"
      }
    },
    {
      "cell_type": "code",
      "source": [
        "#BREAK\n",
        "for x in range(5, 10) :\n",
        "  if x == 7:\n",
        "    break;\n",
        "  print (x)"
      ],
      "metadata": {
        "id": "Kp383M4iOwng",
        "outputId": "41c564e0-f832-4f12-db45-1c5d852088e4",
        "colab": {
          "base_uri": "https://localhost:8080/"
        }
      },
      "execution_count": 27,
      "outputs": [
        {
          "output_type": "stream",
          "name": "stdout",
          "text": [
            "5\n",
            "6\n"
          ]
        }
      ]
    },
    {
      "cell_type": "code",
      "source": [
        "#CONTINUE\n",
        "for x in range(10) :\n",
        "  if x==5:\n",
        "    continue\n",
        "  print(x)"
      ],
      "metadata": {
        "id": "GQzMUR-cOwlR",
        "outputId": "7364e3fe-63a8-419f-a31a-687b184434d7",
        "colab": {
          "base_uri": "https://localhost:8080/"
        }
      },
      "execution_count": 28,
      "outputs": [
        {
          "output_type": "stream",
          "name": "stdout",
          "text": [
            "0\n",
            "1\n",
            "2\n",
            "3\n",
            "4\n",
            "6\n",
            "7\n",
            "8\n",
            "9\n"
          ]
        }
      ]
    },
    {
      "cell_type": "code",
      "source": [
        "# PASS\n",
        "for x in range (10) :\n",
        "  pass"
      ],
      "metadata": {
        "id": "iHVyqGj6OwhA"
      },
      "execution_count": 30,
      "outputs": []
    },
    {
      "cell_type": "code",
      "source": [],
      "metadata": {
        "id": "5VRi-pFoOweg"
      },
      "execution_count": null,
      "outputs": []
    },
    {
      "cell_type": "markdown",
      "source": [
        "**TRY CATCH**"
      ],
      "metadata": {
        "id": "kwg3WtkMS2hE"
      }
    },
    {
      "cell_type": "code",
      "source": [
        "try:\n",
        "  result = 10 / 0\n",
        "except ZeroDivisionError :\n",
        "  print(\"Cannot divide by zero\")\n",
        "except Exception :\n",
        "  print(\"Any other exception happened\")\n",
        "\n",
        "print(\"Hi\")"
      ],
      "metadata": {
        "id": "qcx5YGEgOwcR",
        "outputId": "ff011c70-719e-473e-a335-70342036f62a",
        "colab": {
          "base_uri": "https://localhost:8080/"
        }
      },
      "execution_count": 33,
      "outputs": [
        {
          "output_type": "stream",
          "name": "stdout",
          "text": [
            "Cannot divide by zero\n",
            "Hi\n"
          ]
        }
      ]
    },
    {
      "cell_type": "code",
      "source": [
        "try:\n",
        "  result = 10 / 0\n",
        "except ZeroDivisionError :\n",
        "  print(\"Cannot divide by zero\")\n",
        "except Exception :\n",
        "  print(\"Any other exception happened\")\n",
        "finally:\n",
        "  print(\"You understood exceptions\")\n",
        "print(\"Hi\")"
      ],
      "metadata": {
        "id": "N6_P2u9_OwaQ",
        "outputId": "1a46ea6b-a6a2-44da-cd7d-874b9f306e4b",
        "colab": {
          "base_uri": "https://localhost:8080/"
        }
      },
      "execution_count": 34,
      "outputs": [
        {
          "output_type": "stream",
          "name": "stdout",
          "text": [
            "Cannot divide by zero\n",
            "You understood exceptions\n",
            "Hi\n"
          ]
        }
      ]
    },
    {
      "cell_type": "code",
      "source": [
        "try:\n",
        "  result = 10 / 10\n",
        "except ZeroDivisionError :\n",
        "  print(\"Cannot divide by zero\")\n",
        "except Exception :\n",
        "  print(\"Any other exception happened\")\n",
        "finally:\n",
        "  print(\"You understood exceptions\")\n",
        "print(\"Hi\")"
      ],
      "metadata": {
        "id": "DR8qtQsVOwX_",
        "outputId": "a2edc898-cb9b-427e-db8c-8c8931a98f35",
        "colab": {
          "base_uri": "https://localhost:8080/"
        }
      },
      "execution_count": 35,
      "outputs": [
        {
          "output_type": "stream",
          "name": "stdout",
          "text": [
            "You understood exceptions\n",
            "Hi\n"
          ]
        }
      ]
    },
    {
      "cell_type": "markdown",
      "source": [
        "**COMPREHENSIONS**"
      ],
      "metadata": {
        "id": "ujXbDwowUPgp"
      }
    },
    {
      "cell_type": "code",
      "source": [
        "squares = [x**2 for x in range (5)]\n",
        "print(squares)"
      ],
      "metadata": {
        "id": "eF8Wpdt2OwVy",
        "outputId": "1054a1db-0a53-4273-a580-96c1946a6cee",
        "colab": {
          "base_uri": "https://localhost:8080/"
        }
      },
      "execution_count": 37,
      "outputs": [
        {
          "output_type": "stream",
          "name": "stdout",
          "text": [
            "[0, 1, 4, 9, 16]\n"
          ]
        }
      ]
    },
    {
      "cell_type": "code",
      "source": [
        "mylist = []\n",
        "for x in range(5):\n",
        "  mylist.append(x**2)\n",
        "  print (x**2)\n",
        "\n",
        "print(mylist)"
      ],
      "metadata": {
        "id": "hIiZKgKFOwTS",
        "outputId": "48c43bf8-6d04-459c-f1ae-8a886963bd12",
        "colab": {
          "base_uri": "https://localhost:8080/"
        }
      },
      "execution_count": 39,
      "outputs": [
        {
          "output_type": "stream",
          "name": "stdout",
          "text": [
            "0\n",
            "1\n",
            "4\n",
            "9\n",
            "16\n",
            "[0, 1, 4, 9, 16]\n"
          ]
        }
      ]
    },
    {
      "cell_type": "code",
      "source": [
        "squares = [x**2 for x in range (5) if x % 2 == 0]\n",
        "print(squares) #0, 2, 4"
      ],
      "metadata": {
        "id": "tTJRoMbBOwQb",
        "outputId": "e9f796a7-1ccd-44b9-e3ed-0985f994cb4d",
        "colab": {
          "base_uri": "https://localhost:8080/"
        }
      },
      "execution_count": 40,
      "outputs": [
        {
          "output_type": "stream",
          "name": "stdout",
          "text": [
            "[0, 4, 16]\n"
          ]
        }
      ]
    },
    {
      "cell_type": "code",
      "source": [
        "print(14 % 9) #Modulus operator"
      ],
      "metadata": {
        "id": "vmURGt9lOwMq",
        "outputId": "35d4dc0f-39ec-4ad4-8217-89d306e3c2c3",
        "colab": {
          "base_uri": "https://localhost:8080/"
        }
      },
      "execution_count": 42,
      "outputs": [
        {
          "output_type": "stream",
          "name": "stdout",
          "text": [
            "5\n"
          ]
        }
      ]
    },
    {
      "cell_type": "code",
      "source": [
        "# COMPREHENSIONS IN DICTIONARY\n",
        "squares_dict = {x : x **2 for x in range (5)}\n",
        "print(squares_dict)"
      ],
      "metadata": {
        "id": "X0D_Jpt0OwKD",
        "outputId": "2dc6a3a4-9c57-4221-f054-620531f89bd0",
        "colab": {
          "base_uri": "https://localhost:8080/"
        }
      },
      "execution_count": 43,
      "outputs": [
        {
          "output_type": "stream",
          "name": "stdout",
          "text": [
            "{0: 0, 1: 1, 2: 4, 3: 9, 4: 16}\n"
          ]
        }
      ]
    },
    {
      "cell_type": "code",
      "source": [
        "# COMPREHENSIONS IN DICTIONARY\n",
        "squares_dict = {x : x **2 for x in range (5) if x%3 == 0}\n",
        "print(squares_dict)"
      ],
      "metadata": {
        "id": "Y-Sy8AwcVYgZ",
        "outputId": "2f8afcbb-45ad-436f-8999-89db1f286177",
        "colab": {
          "base_uri": "https://localhost:8080/"
        }
      },
      "execution_count": 44,
      "outputs": [
        {
          "output_type": "stream",
          "name": "stdout",
          "text": [
            "{0: 0, 3: 9}\n"
          ]
        }
      ]
    },
    {
      "cell_type": "code",
      "source": [],
      "metadata": {
        "id": "w9Lmn6OzVYor"
      },
      "execution_count": null,
      "outputs": []
    },
    {
      "cell_type": "code",
      "source": [],
      "metadata": {
        "id": "Y0KkAfCTVYrS"
      },
      "execution_count": null,
      "outputs": []
    },
    {
      "cell_type": "code",
      "source": [],
      "metadata": {
        "id": "Zvi5xvN_VYx_"
      },
      "execution_count": null,
      "outputs": []
    },
    {
      "cell_type": "code",
      "source": [],
      "metadata": {
        "id": "-hgxwzX7VY0m"
      },
      "execution_count": null,
      "outputs": []
    },
    {
      "cell_type": "code",
      "source": [],
      "metadata": {
        "id": "vgXgYzbcVY5J"
      },
      "execution_count": null,
      "outputs": []
    },
    {
      "cell_type": "code",
      "source": [],
      "metadata": {
        "id": "2rT_ZPkDVY76"
      },
      "execution_count": null,
      "outputs": []
    }
  ]
}