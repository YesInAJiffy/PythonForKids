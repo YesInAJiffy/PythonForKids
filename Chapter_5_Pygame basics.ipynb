{
  "nbformat": 4,
  "nbformat_minor": 0,
  "metadata": {
    "colab": {
      "provenance": [],
      "authorship_tag": "ABX9TyPrCLgsaV4Hfp6oNY0B66GP",
      "include_colab_link": true
    },
    "kernelspec": {
      "name": "python3",
      "display_name": "Python 3"
    },
    "language_info": {
      "name": "python"
    }
  },
  "cells": [
    {
      "cell_type": "markdown",
      "metadata": {
        "id": "view-in-github",
        "colab_type": "text"
      },
      "source": [
        "<a href=\"https://colab.research.google.com/github/YesInAJiffy/PythonForKids/blob/main/Chapter_5_Pygame%20basics.ipynb\" target=\"_parent\"><img src=\"https://colab.research.google.com/assets/colab-badge.svg\" alt=\"Open In Colab\"/></a>"
      ]
    },
    {
      "cell_type": "markdown",
      "source": [
        "**BASE Pygame**"
      ],
      "metadata": {
        "id": "2_OKNZP9VzB4"
      }
    },
    {
      "cell_type": "code",
      "execution_count": null,
      "metadata": {
        "id": "1OvIfv6gViEQ"
      },
      "outputs": [],
      "source": [
        "import pygame\n",
        "import sys\n",
        "\n",
        "# Initialize Pygame\n",
        "pygame.init()\n",
        "\n",
        "# Set up the display\n",
        "width, height = 800, 600\n",
        "screen = pygame.display.set_mode((width, height))\n",
        "pygame.display.set_caption(\"Hello Pygame!\")\n",
        "\n",
        "# Run the game loop\n",
        "while True:\n",
        "    for event in pygame.event.get():\n",
        "        if event.type == pygame.QUIT:\n",
        "            pygame.quit()\n",
        "            sys.exit()\n",
        "\n",
        "    # Draw on the screen\n",
        "    screen.fill((255, 255, 255))  # Fill the screen with white\n",
        "    font = pygame.font.Font(None, 36)\n",
        "    text = font.render(\"Hello, Pygame!\", True, (0, 0, 0))\n",
        "    screen.blit(text, (width // 2 - text.get_width() // 2, height // 2 - text.get_height() // 2))\n",
        "\n",
        "    # Update the display\n",
        "    pygame.display.flip()"
      ]
    }
  ]
}