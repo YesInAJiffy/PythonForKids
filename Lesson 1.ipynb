{
  "nbformat": 4,
  "nbformat_minor": 0,
  "metadata": {
    "colab": {
      "provenance": [],
      "authorship_tag": "ABX9TyPSVlbH2/zsEGota9YZIpWp",
      "include_colab_link": true
    },
    "kernelspec": {
      "name": "python3",
      "display_name": "Python 3"
    },
    "language_info": {
      "name": "python"
    }
  },
  "cells": [
    {
      "cell_type": "markdown",
      "metadata": {
        "id": "view-in-github",
        "colab_type": "text"
      },
      "source": [
        "<a href=\"https://colab.research.google.com/github/YesInAJiffy/PythonForKids/blob/main/Lesson%201.ipynb\" target=\"_parent\"><img src=\"https://colab.research.google.com/assets/colab-badge.svg\" alt=\"Open In Colab\"/></a>"
      ]
    },
    {
      "cell_type": "markdown",
      "source": [
        "**VARIABLES**"
      ],
      "metadata": {
        "id": "wAY9u7gzxEAM"
      }
    },
    {
      "cell_type": "code",
      "source": [
        "x = 10\n",
        "name =\"John Doe\"\n",
        "isAvailable = True\n",
        "pi = 3.14"
      ],
      "metadata": {
        "id": "_efKD3KvwzZu"
      },
      "execution_count": 2,
      "outputs": []
    },
    {
      "cell_type": "markdown",
      "source": [
        "**BASIC FUNCTIONS**\n",
        "* print\n",
        "* type"
      ],
      "metadata": {
        "id": "0sLuTC8NyOc-"
      }
    },
    {
      "cell_type": "code",
      "source": [
        "print(x)\n",
        "print(name)\n",
        "print (pi)\n",
        "print(isAvailable)"
      ],
      "metadata": {
        "colab": {
          "base_uri": "https://localhost:8080/"
        },
        "id": "rzWqpc83xKiT",
        "outputId": "ba130599-c215-4cdf-ea7e-bc069104b8e6"
      },
      "execution_count": 4,
      "outputs": [
        {
          "output_type": "stream",
          "name": "stdout",
          "text": [
            "10\n",
            "John Doe\n",
            "3.14\n",
            "True\n"
          ]
        }
      ]
    },
    {
      "cell_type": "code",
      "source": [
        "print(type(x))\n",
        "print(type(name))\n",
        "print(type(pi))\n",
        "print(type(isAvailable))"
      ],
      "metadata": {
        "colab": {
          "base_uri": "https://localhost:8080/"
        },
        "id": "QKekZ8NcxYKm",
        "outputId": "f6b75b5c-537d-4361-9e7e-4dcde13d2dc7"
      },
      "execution_count": 7,
      "outputs": [
        {
          "output_type": "stream",
          "name": "stdout",
          "text": [
            "<class 'int'>\n",
            "<class 'str'>\n",
            "<class 'float'>\n",
            "<class 'bool'>\n"
          ]
        }
      ]
    },
    {
      "cell_type": "markdown",
      "source": [
        "**LIST DATA TYPE**"
      ],
      "metadata": {
        "id": "5ujyA-v7yWKP"
      }
    },
    {
      "cell_type": "code",
      "source": [
        "my_list = [1,2,3,4, \"apple\", \"oranges\"]"
      ],
      "metadata": {
        "id": "wMQzYU4EyVa4"
      },
      "execution_count": 8,
      "outputs": []
    },
    {
      "cell_type": "code",
      "source": [
        "print(type(my_list))"
      ],
      "metadata": {
        "colab": {
          "base_uri": "https://localhost:8080/"
        },
        "id": "OrxlAfPUykT4",
        "outputId": "51486c58-9a0a-495f-fbb2-73d68bd1193b"
      },
      "execution_count": 9,
      "outputs": [
        {
          "output_type": "stream",
          "name": "stdout",
          "text": [
            "<class 'list'>\n"
          ]
        }
      ]
    },
    {
      "cell_type": "code",
      "source": [
        "firstelement = my_list[0]\n",
        "print(firstelement)"
      ],
      "metadata": {
        "colab": {
          "base_uri": "https://localhost:8080/"
        },
        "id": "pHCZxcBEyku2",
        "outputId": "a9b7994b-d807-4040-964d-f2cf5e8389ea"
      },
      "execution_count": 10,
      "outputs": [
        {
          "output_type": "stream",
          "name": "stdout",
          "text": [
            "1\n"
          ]
        }
      ]
    },
    {
      "cell_type": "code",
      "source": [
        "thirdelement = my_list[2]\n",
        "print(thirdelement)"
      ],
      "metadata": {
        "colab": {
          "base_uri": "https://localhost:8080/"
        },
        "id": "cjFj1VoVykxj",
        "outputId": "ec61d999-43be-416f-8c69-a4e5ddeca914"
      },
      "execution_count": 11,
      "outputs": [
        {
          "output_type": "stream",
          "name": "stdout",
          "text": [
            "3\n"
          ]
        }
      ]
    },
    {
      "cell_type": "code",
      "source": [
        "lastelemement = my_list[-1]\n",
        "print(lastelemement)"
      ],
      "metadata": {
        "colab": {
          "base_uri": "https://localhost:8080/"
        },
        "id": "V8xSyHc_ykz_",
        "outputId": "e4811bea-0a28-4d6e-e42f-7a8b77b5f102"
      },
      "execution_count": 12,
      "outputs": [
        {
          "output_type": "stream",
          "name": "stdout",
          "text": [
            "oranges\n"
          ]
        }
      ]
    },
    {
      "cell_type": "code",
      "source": [
        "secondlastelemement = my_list[-2]\n",
        "print(secondlastelemement)"
      ],
      "metadata": {
        "colab": {
          "base_uri": "https://localhost:8080/"
        },
        "id": "0CS7eax1yk2g",
        "outputId": "b9f22f91-bed5-4f67-f37d-cb3028bf9873"
      },
      "execution_count": 13,
      "outputs": [
        {
          "output_type": "stream",
          "name": "stdout",
          "text": [
            "apple\n"
          ]
        }
      ]
    },
    {
      "cell_type": "code",
      "source": [
        "#Slicing\n",
        "\n",
        "''' We are learning data types\n",
        "starting with primitive and gratuating with complex '''\n",
        "\n",
        "subset = my_list[3:4]\n",
        "print(subset)"
      ],
      "metadata": {
        "colab": {
          "base_uri": "https://localhost:8080/"
        },
        "id": "uyI01RYeyk4z",
        "outputId": "221b9402-78ae-43b3-bcef-c7fd1b1b65da"
      },
      "execution_count": 15,
      "outputs": [
        {
          "output_type": "stream",
          "name": "stdout",
          "text": [
            "[4]\n"
          ]
        }
      ]
    },
    {
      "cell_type": "code",
      "source": [
        "# Appending Elements\n",
        "my_list.append(\"kiwi\")\n",
        "print(my_list)"
      ],
      "metadata": {
        "colab": {
          "base_uri": "https://localhost:8080/"
        },
        "id": "hEQp1vcwyk7S",
        "outputId": "d3e5dfab-673d-46ba-9d1c-f5c0d71a84fd"
      },
      "execution_count": 20,
      "outputs": [
        {
          "output_type": "stream",
          "name": "stdout",
          "text": [
            "[1, 2, 3, 4, 'apple', 'oranges', 'kiwi', 'kiwi', 'kiwi', 'kiwi', 'kiwi']\n"
          ]
        }
      ]
    },
    {
      "cell_type": "code",
      "source": [
        "#Updating Element\n",
        "my_list[5] = \"lemon\"\n",
        "print(my_list)"
      ],
      "metadata": {
        "colab": {
          "base_uri": "https://localhost:8080/"
        },
        "id": "aHfEuxVUyk9z",
        "outputId": "c947d98d-b4df-4b2d-a246-064b95aca667"
      },
      "execution_count": 21,
      "outputs": [
        {
          "output_type": "stream",
          "name": "stdout",
          "text": [
            "[1, 2, 3, 4, 'apple', 'lemon', 'kiwi', 'kiwi', 'kiwi', 'kiwi', 'kiwi']\n"
          ]
        }
      ]
    },
    {
      "cell_type": "code",
      "source": [
        "#Length\n",
        "length = len(my_list)\n",
        "print(length)"
      ],
      "metadata": {
        "colab": {
          "base_uri": "https://localhost:8080/"
        },
        "id": "DYW0KYb7ylAP",
        "outputId": "8952c772-d813-4fd2-c3df-e4a8a1fb7601"
      },
      "execution_count": 22,
      "outputs": [
        {
          "output_type": "stream",
          "name": "stdout",
          "text": [
            "11\n"
          ]
        }
      ]
    },
    {
      "cell_type": "markdown",
      "source": [
        "**DICTIONARY**"
      ],
      "metadata": {
        "id": "jsPFwdIO0THA"
      }
    },
    {
      "cell_type": "code",
      "source": [
        "my_dict = {\"name\": \"Sam\", \"age\" : 12, \"city\": \"New York\"}\n",
        "print(my_dict)"
      ],
      "metadata": {
        "colab": {
          "base_uri": "https://localhost:8080/"
        },
        "id": "_MSIMD3vylCf",
        "outputId": "b1616fca-e659-4909-f7dd-f2207aab74a5"
      },
      "execution_count": 24,
      "outputs": [
        {
          "output_type": "stream",
          "name": "stdout",
          "text": [
            "{'name': 'Sam', 'age': 12, 'city': 'New York'}\n"
          ]
        }
      ]
    },
    {
      "cell_type": "code",
      "source": [
        "my_dict = {\"name\": \"Sam\", \"age\" : 12, \"city\": \"New York\", \"city\" :\"toronto\"}\n",
        "print(my_dict)"
      ],
      "metadata": {
        "colab": {
          "base_uri": "https://localhost:8080/"
        },
        "id": "SCCrYbp2ylE0",
        "outputId": "2132c722-3769-4ef0-c550-1fab75c7c344"
      },
      "execution_count": 25,
      "outputs": [
        {
          "output_type": "stream",
          "name": "stdout",
          "text": [
            "{'name': 'Sam', 'age': 12, 'city': 'toronto'}\n"
          ]
        }
      ]
    },
    {
      "cell_type": "code",
      "source": [
        "# Access values\n",
        "print(my_dict[\"age\"])"
      ],
      "metadata": {
        "colab": {
          "base_uri": "https://localhost:8080/"
        },
        "id": "d1cPuuNsylHq",
        "outputId": "bf0367d0-8ea1-46e2-d926-61c2f39cd2ae"
      },
      "execution_count": 26,
      "outputs": [
        {
          "output_type": "stream",
          "name": "stdout",
          "text": [
            "12\n"
          ]
        }
      ]
    },
    {
      "cell_type": "code",
      "source": [
        "#Updating values\n",
        "my_dict[\"name\"] = \"John\"\n",
        "print(my_dict)"
      ],
      "metadata": {
        "colab": {
          "base_uri": "https://localhost:8080/"
        },
        "id": "sXpY-xyRylKS",
        "outputId": "92e4213c-8a6c-4f36-e01c-ed92d0059cbc"
      },
      "execution_count": 27,
      "outputs": [
        {
          "output_type": "stream",
          "name": "stdout",
          "text": [
            "{'name': 'John', 'age': 12, 'city': 'toronto'}\n"
          ]
        }
      ]
    },
    {
      "cell_type": "code",
      "source": [
        "#adding new key value\n",
        "my_dict[\"occupation\"] = \"student\"\n",
        "print(my_dict)"
      ],
      "metadata": {
        "colab": {
          "base_uri": "https://localhost:8080/"
        },
        "id": "A9CjZFOgylM6",
        "outputId": "44e7dfe3-227f-438e-e967-9101ca2ad62c"
      },
      "execution_count": 29,
      "outputs": [
        {
          "output_type": "stream",
          "name": "stdout",
          "text": [
            "{'name': 'John', 'age': 12, 'city': 'toronto', 'occupation': 'student'}\n"
          ]
        }
      ]
    }
  ]
}