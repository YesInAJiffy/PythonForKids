{
  "nbformat": 4,
  "nbformat_minor": 0,
  "metadata": {
    "colab": {
      "provenance": [],
      "authorship_tag": "ABX9TyPrwdHZ3gCbuYt3qs0AAMu+",
      "include_colab_link": true
    },
    "kernelspec": {
      "name": "python3",
      "display_name": "Python 3"
    },
    "language_info": {
      "name": "python"
    }
  },
  "cells": [
    {
      "cell_type": "markdown",
      "metadata": {
        "id": "view-in-github",
        "colab_type": "text"
      },
      "source": [
        "<a href=\"https://colab.research.google.com/github/YesInAJiffy/PythonForKids/blob/main/Chapter_4_FunctionsAndLibraries(Exercises).ipynb\" target=\"_parent\"><img src=\"https://colab.research.google.com/assets/colab-badge.svg\" alt=\"Open In Colab\"/></a>"
      ]
    },
    {
      "cell_type": "code",
      "execution_count": null,
      "metadata": {
        "id": "wn8Isqhj5Hgo"
      },
      "outputs": [],
      "source": []
    },
    {
      "cell_type": "markdown",
      "source": [
        "1. Function to Check Even or Odd\n"
      ],
      "metadata": {
        "id": "jxY9Dffg5Rh3"
      }
    },
    {
      "cell_type": "code",
      "source": [
        "def check_even_odd(number):\n",
        "    if number % 2 == 0:\n",
        "        return \"even\"\n",
        "    else:\n",
        "        return \"odd\"\n",
        "\n",
        "num = int(input(\"Enter a number: \"))\n",
        "result = check_even_odd(num)\n",
        "print(f\"The number {num} is {result}.\")\n"
      ],
      "metadata": {
        "id": "8xV3XNzd5Spq",
        "outputId": "88e2b510-a4f1-42d1-d96d-0158dec72d82",
        "colab": {
          "base_uri": "https://localhost:8080/"
        }
      },
      "execution_count": 1,
      "outputs": [
        {
          "output_type": "stream",
          "name": "stdout",
          "text": [
            "Enter a number: 21\n",
            "The number 21 is odd.\n"
          ]
        }
      ]
    },
    {
      "cell_type": "markdown",
      "source": [
        "2. Function for Factorial Calculation\n"
      ],
      "metadata": {
        "id": "2d1rbKM-5Xf6"
      }
    },
    {
      "cell_type": "code",
      "source": [
        "def factorial(n):\n",
        "    if n == 0 or n == 1:\n",
        "        return 1\n",
        "    return n * factorial(n-1)\n",
        "\n",
        "num = int(input(\"Enter a number to calculate its factorial: \"))\n",
        "print(f\"The factorial of {num} is: {factorial(num)}\")\n"
      ],
      "metadata": {
        "id": "n0TAZaUd5SyP"
      },
      "execution_count": null,
      "outputs": []
    },
    {
      "cell_type": "markdown",
      "source": [
        "3. Function for Simple Calculator\n"
      ],
      "metadata": {
        "id": "gPO-qKMd5aPG"
      }
    },
    {
      "cell_type": "code",
      "source": [
        "def add_numbers(a, b):\n",
        "    return a + b\n",
        "\n",
        "def subtract_numbers(a, b):\n",
        "    return a - b\n",
        "\n",
        "num1 = float(input(\"Enter the first number: \"))\n",
        "num2 = float(input(\"Enter the second number: \"))\n",
        "\n",
        "sum_result = add_numbers(num1, num2)\n",
        "print(f\"The sum of {num1} and {num2} is: {sum_result}\")\n",
        "\n",
        "difference_result = subtract_numbers(num1, num2)\n",
        "print(f\"The difference of {num1} and {num2} is: {difference_result}\")\n"
      ],
      "metadata": {
        "id": "I42rNtrh5S7x"
      },
      "execution_count": null,
      "outputs": []
    },
    {
      "cell_type": "markdown",
      "source": [
        "4. Function to Check Prime Number\n"
      ],
      "metadata": {
        "id": "z1ibTB4f5gKN"
      }
    },
    {
      "cell_type": "code",
      "source": [
        "def is_prime(number):\n",
        "    if number <= 1:\n",
        "        return False\n",
        "    for i in range(2, int(number**0.5) + 1):\n",
        "        if number % i == 0:\n",
        "            return False\n",
        "    return True\n",
        "\n",
        "num = int(input(\"Enter a number: \"))\n",
        "if is_prime(num):\n",
        "    print(f\"{num} is a prime number.\")\n",
        "else:\n",
        "    print(f\"{num} is not a prime number.\")\n"
      ],
      "metadata": {
        "id": "-gveJLmT5TFd"
      },
      "execution_count": null,
      "outputs": []
    },
    {
      "cell_type": "code",
      "source": [
        "5. Function for Fibonacci Sequence\n"
      ],
      "metadata": {
        "id": "rDMPoC1x5TIB"
      },
      "execution_count": null,
      "outputs": []
    },
    {
      "cell_type": "code",
      "source": [
        "def fibonacci(n):\n",
        "    fib_sequence = [0, 1]\n",
        "    for i in range(2, n):\n",
        "        fib_sequence.append(fib_sequence[-1] + fib_sequence[-2])\n",
        "    return fib_sequence\n",
        "\n",
        "length = int(input(\"Enter the length of the Fibonacci sequence: \"))\n",
        "print(f\"The Fibonacci sequence of length {length} is: {fibonacci(length)}\")\n"
      ],
      "metadata": {
        "id": "cjbX4NTT5TKi"
      },
      "execution_count": null,
      "outputs": []
    },
    {
      "cell_type": "code",
      "source": [],
      "metadata": {
        "id": "b0dkXOzN5TM0"
      },
      "execution_count": null,
      "outputs": []
    },
    {
      "cell_type": "code",
      "source": [],
      "metadata": {
        "id": "ZMM-Zw4T5TO7"
      },
      "execution_count": null,
      "outputs": []
    },
    {
      "cell_type": "code",
      "source": [],
      "metadata": {
        "id": "oGinM0Ik5Tha"
      },
      "execution_count": null,
      "outputs": []
    }
  ]
}